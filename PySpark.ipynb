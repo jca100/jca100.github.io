{
  "nbformat": 4,
  "nbformat_minor": 0,
  "metadata": {
    "colab": {
      "provenance": []
    },
    "kernelspec": {
      "name": "python3",
      "display_name": "Python 3"
    },
    "language_info": {
      "name": "python"
    }
  },
  "cells": [
    {
      "cell_type": "markdown",
      "source": [
        "**Briefly explain Apache Hadoop, Apache Spark, and PySpark**\n",
        "\n",
        "\n",
        "Apache Hadoop is an open-source framework for distributed storage and processing of large datasets. It comprises Hadoop Distributed File System (HDFS) for storage, MapReduce for parallel processing, and YARN for resource management. However, Hadoop’s reliance on disk-based operations makes it slower compared to newer technologies. Apache Spark is a fast big data processing engine that leverages in-memory computing, reducing read/write latency. It includes libraries for SQL processing, machine learning, streaming, and graph processing, making it highly versatile. PySpark, the Python API for Spark, allows users to work with Spark’s functionalities using Python, integrating well with libraries like Pandas and NumPy. While Hadoop remains useful for batch processing, Spark and PySpark provide greater speed and flexibility for modern data applications. The choice between these technologies depends on specific data processing requirements.\n",
        "\n"
      ],
      "metadata": {
        "id": "SZy6m4qxRi3p"
      }
    },
    {
      "cell_type": "markdown",
      "source": [],
      "metadata": {
        "id": "JjuXzRJTRmxy"
      }
    },
    {
      "cell_type": "code",
      "execution_count": null,
      "metadata": {
        "id": "gLUMqq5GRKqr"
      },
      "outputs": [],
      "source": []
    }
  ]
}