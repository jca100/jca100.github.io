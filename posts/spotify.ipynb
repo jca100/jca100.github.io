{
  "nbformat": 4,
  "nbformat_minor": 0,
  "metadata": {
    "colab": {
      "provenance": []
    },
    "kernelspec": {
      "name": "python3",
      "display_name": "Python 3"
    },
    "language_info": {
      "name": "python"
    }
  },
  "cells": [
    {
      "cell_type": "markdown",
      "source": [
        "---\n",
        "title: \"Spotify Analysis\"\n",
        "author: \"Jordan Alfano\"\n",
        "date: \"2024-03-05\"\n",
        "categories: [python, spotify, data-analysis]\n",
        "image: \"image.png\"\n",
        "\n",
        "execute:\n",
        "  warning: false\n",
        "  message: false\n",
        "  \n",
        "toc: true\n",
        "---"
      ],
      "metadata": {
        "id": "lbl8pmUIxqBv"
      }
    }
  ]
}